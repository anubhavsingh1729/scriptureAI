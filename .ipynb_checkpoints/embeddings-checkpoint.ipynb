{
 "cells": [
  {
   "cell_type": "code",
   "execution_count": 1,
   "metadata": {},
   "outputs": [
    {
     "name": "stderr",
     "output_type": "stream",
     "text": [
      "/opt/anaconda3/envs/llmapp/lib/python3.12/site-packages/tqdm/auto.py:21: TqdmWarning: IProgress not found. Please update jupyter and ipywidgets. See https://ipywidgets.readthedocs.io/en/stable/user_install.html\n",
      "  from .autonotebook import tqdm as notebook_tqdm\n"
     ]
    }
   ],
   "source": [
    "import re\n",
    "import pandas as pd\n",
    "from sentence_transformers import SentenceTransformer"
   ]
  },
  {
   "cell_type": "code",
   "execution_count": 3,
   "metadata": {},
   "outputs": [],
   "source": [
    "def preprocess(text):\n",
    "    text = re.sub(r'[^a-zA-Z]',' ',text)\n",
    "    text = ' '.join(text.split())\n",
    "    return text\n",
    "\n",
    "dt = pd.read_csv(\"data/texts.csv\")\n",
    "dt['text'] = dt['content'].apply(preprocess)"
   ]
  },
  {
   "cell_type": "code",
   "execution_count": 19,
   "metadata": {},
   "outputs": [
    {
     "data": {
      "text/html": [
       "<div>\n",
       "<style scoped>\n",
       "    .dataframe tbody tr th:only-of-type {\n",
       "        vertical-align: middle;\n",
       "    }\n",
       "\n",
       "    .dataframe tbody tr th {\n",
       "        vertical-align: top;\n",
       "    }\n",
       "\n",
       "    .dataframe thead th {\n",
       "        text-align: right;\n",
       "    }\n",
       "</style>\n",
       "<table border=\"1\" class=\"dataframe\">\n",
       "  <thead>\n",
       "    <tr style=\"text-align: right;\">\n",
       "      <th></th>\n",
       "      <th>url</th>\n",
       "      <th>content</th>\n",
       "      <th>name</th>\n",
       "      <th>text</th>\n",
       "      <th>embeddings</th>\n",
       "    </tr>\n",
       "  </thead>\n",
       "  <tbody>\n",
       "    <tr>\n",
       "      <th>0</th>\n",
       "      <td>https://gutenberg.org/cache/epub/6130/pg6130.txt</td>\n",
       "      <td>﻿The Project Gutenberg eBook of The Iliad\\r\\n ...</td>\n",
       "      <td>Iliad</td>\n",
       "      <td>The Project Gutenberg eBook of The Iliad This ...</td>\n",
       "      <td>[-0.059608113, -0.013504977, 0.041315284, -0.0...</td>\n",
       "    </tr>\n",
       "    <tr>\n",
       "      <th>1</th>\n",
       "      <td>https://ia601606.us.archive.org/25/items/pdfy-...</td>\n",
       "      <td>The Corpus Hermeticum\\ntranslated by G.R.S. M...</td>\n",
       "      <td>Corpus Hermeticum</td>\n",
       "      <td>The Corpus Hermeticum translated by G R S Mead...</td>\n",
       "      <td>[0.051867742, -0.011390395, -0.021486204, -0.0...</td>\n",
       "    </tr>\n",
       "    <tr>\n",
       "      <th>2</th>\n",
       "      <td>https://openbible.com/textfiles/kjv.txt</td>\n",
       "      <td>ï»¿KJV\\nKing James Bible: Pure Cambridge Editi...</td>\n",
       "      <td>Bible</td>\n",
       "      <td>KJV King James Bible Pure Cambridge Edition Te...</td>\n",
       "      <td>[-0.056927644, 0.090065286, 0.031133214, 0.026...</td>\n",
       "    </tr>\n",
       "    <tr>\n",
       "      <th>3</th>\n",
       "      <td>https://www.gutenberg.org/files/2388/2388-h/23...</td>\n",
       "      <td>\\n\\n\\n\\n\\r\\nThe Project Gutenberg E-text of Th...</td>\n",
       "      <td>Bhagavad Geeta</td>\n",
       "      <td>The Project Gutenberg E text of The Bhagavad G...</td>\n",
       "      <td>[-0.12821372, -0.03288306, -0.04227734, -0.014...</td>\n",
       "    </tr>\n",
       "    <tr>\n",
       "      <th>4</th>\n",
       "      <td>https://www.avesta.org/kanga/ka_english_kanga_...</td>\n",
       "      <td>KHORDEH A VEST Ā\\nComprising\\nAshem, Yatha, th...</td>\n",
       "      <td>Khordeh Avesta</td>\n",
       "      <td>KHORDEH A VEST Comprising Ashem Yatha the five...</td>\n",
       "      <td>[-0.06530946, 0.10148029, -0.039719686, -0.004...</td>\n",
       "    </tr>\n",
       "    <tr>\n",
       "      <th>5</th>\n",
       "      <td>https://archive.org/stream/RigVedaSanhitaByHHW...</td>\n",
       "      <td>\\n\\n\\n\\nFull text of \"Rig Veda Sanhita By H H ...</td>\n",
       "      <td>Rigveda</td>\n",
       "      <td>Full text of Rig Veda Sanhita By H H Wilson Vo...</td>\n",
       "      <td>[-0.05736159, -0.005818954, -0.09312231, -0.06...</td>\n",
       "    </tr>\n",
       "    <tr>\n",
       "      <th>6</th>\n",
       "      <td>https://www.gutenberg.org/files/2017/2017-h/20...</td>\n",
       "      <td>\\n\\n\\n\\n\\n      The Dhammapada, by an Unknown ...</td>\n",
       "      <td>Dhammapada</td>\n",
       "      <td>The Dhammapada by an Unknown Author The Projec...</td>\n",
       "      <td>[-0.07321769, -0.016449777, -0.07155377, -0.03...</td>\n",
       "    </tr>\n",
       "  </tbody>\n",
       "</table>\n",
       "</div>"
      ],
      "text/plain": [
       "                                                 url  \\\n",
       "0   https://gutenberg.org/cache/epub/6130/pg6130.txt   \n",
       "1  https://ia601606.us.archive.org/25/items/pdfy-...   \n",
       "2            https://openbible.com/textfiles/kjv.txt   \n",
       "3  https://www.gutenberg.org/files/2388/2388-h/23...   \n",
       "4  https://www.avesta.org/kanga/ka_english_kanga_...   \n",
       "5  https://archive.org/stream/RigVedaSanhitaByHHW...   \n",
       "6  https://www.gutenberg.org/files/2017/2017-h/20...   \n",
       "\n",
       "                                             content               name  \\\n",
       "0  ﻿The Project Gutenberg eBook of The Iliad\\r\\n ...              Iliad   \n",
       "1   The Corpus Hermeticum\\ntranslated by G.R.S. M...  Corpus Hermeticum   \n",
       "2  ï»¿KJV\\nKing James Bible: Pure Cambridge Editi...              Bible   \n",
       "3  \\n\\n\\n\\n\\r\\nThe Project Gutenberg E-text of Th...     Bhagavad Geeta   \n",
       "4  KHORDEH A VEST Ā\\nComprising\\nAshem, Yatha, th...     Khordeh Avesta   \n",
       "5  \\n\\n\\n\\nFull text of \"Rig Veda Sanhita By H H ...            Rigveda   \n",
       "6  \\n\\n\\n\\n\\n      The Dhammapada, by an Unknown ...         Dhammapada   \n",
       "\n",
       "                                                text  \\\n",
       "0  The Project Gutenberg eBook of The Iliad This ...   \n",
       "1  The Corpus Hermeticum translated by G R S Mead...   \n",
       "2  KJV King James Bible Pure Cambridge Edition Te...   \n",
       "3  The Project Gutenberg E text of The Bhagavad G...   \n",
       "4  KHORDEH A VEST Comprising Ashem Yatha the five...   \n",
       "5  Full text of Rig Veda Sanhita By H H Wilson Vo...   \n",
       "6  The Dhammapada by an Unknown Author The Projec...   \n",
       "\n",
       "                                          embeddings  \n",
       "0  [-0.059608113, -0.013504977, 0.041315284, -0.0...  \n",
       "1  [0.051867742, -0.011390395, -0.021486204, -0.0...  \n",
       "2  [-0.056927644, 0.090065286, 0.031133214, 0.026...  \n",
       "3  [-0.12821372, -0.03288306, -0.04227734, -0.014...  \n",
       "4  [-0.06530946, 0.10148029, -0.039719686, -0.004...  \n",
       "5  [-0.05736159, -0.005818954, -0.09312231, -0.06...  \n",
       "6  [-0.07321769, -0.016449777, -0.07155377, -0.03...  "
      ]
     },
     "execution_count": 19,
     "metadata": {},
     "output_type": "execute_result"
    }
   ],
   "source": [
    "dt"
   ]
  },
  {
   "cell_type": "code",
   "execution_count": 23,
   "metadata": {},
   "outputs": [
    {
     "data": {
      "text/plain": [
       "0    The Project Gutenberg eBook of The Iliad This ...\n",
       "Name: text, dtype: object"
      ]
     },
     "execution_count": 23,
     "metadata": {},
     "output_type": "execute_result"
    }
   ],
   "source": [
    "dt[dt['name']=='Iliad']['text'][:1000]\n"
   ]
  },
  {
   "cell_type": "code",
   "execution_count": null,
   "metadata": {},
   "outputs": [],
   "source": [
    "import torch\n",
    "\n",
    "from sentence_transformers import SentenceTransformer\n",
    "\n",
    "embedder = SentenceTransformer(\"all-MiniLM-L6-v2\")\n",
    "corpus_embeddings = embedder.encode(corpus, convert_to_tensor=True)"
   ]
  },
  {
   "cell_type": "code",
   "execution_count": 14,
   "metadata": {},
   "outputs": [
    {
     "data": {
      "text/plain": [
       "array([-7.32176900e-02, -1.64497774e-02, -7.15537667e-02, -3.97822894e-02,\n",
       "       -9.39299539e-02,  2.68942509e-02, -2.28387211e-02,  2.16301531e-02,\n",
       "        5.21227978e-02,  3.67987975e-02,  5.98589070e-02,  4.77728359e-02,\n",
       "       -3.75942066e-02, -6.79963902e-02, -5.90972649e-03,  6.34121299e-02,\n",
       "       -1.92500819e-02,  7.06295967e-02,  5.70788607e-02,  4.03287308e-03,\n",
       "        3.25728133e-02,  9.81412679e-02,  4.32103574e-02, -2.79607289e-02,\n",
       "       -8.58231075e-03,  6.35318831e-02, -3.19331177e-02, -6.40458092e-02,\n",
       "        1.49646970e-02,  2.24016476e-02, -5.52475117e-02, -6.53029839e-03,\n",
       "        5.87788178e-04,  4.22511622e-03,  2.11735256e-02,  2.00176183e-02,\n",
       "       -5.85111929e-03,  2.83800960e-02,  1.11905061e-01,  3.99504602e-02,\n",
       "        3.98603715e-02,  3.37467119e-02, -6.04761802e-02, -1.72710000e-03,\n",
       "        2.72973794e-02,  2.08254382e-02, -8.48176852e-02,  1.38283605e-02,\n",
       "        1.13792634e-02,  3.23983235e-03, -6.20874427e-02, -1.05630103e-02,\n",
       "       -8.70756805e-03,  9.02924016e-02,  1.00643216e-02, -9.52353626e-02,\n",
       "        3.30073424e-02,  4.77320701e-02, -3.72725651e-02,  1.86066106e-02,\n",
       "       -9.74843875e-02,  6.75210729e-02,  5.20907529e-03,  2.02687774e-02,\n",
       "        4.68748622e-02, -5.74560426e-02,  4.58249962e-03,  2.18647923e-02,\n",
       "       -3.97263542e-02,  6.57115085e-03, -7.11210892e-02, -1.63282163e-03,\n",
       "        7.39441365e-02,  3.70086636e-03, -1.27324685e-01, -1.13134272e-01,\n",
       "       -3.37081999e-02, -4.87048365e-02, -6.09419271e-02, -3.53921577e-02,\n",
       "        1.27896527e-02,  8.41686651e-02,  1.11661322e-01,  1.43106710e-02,\n",
       "       -6.06227368e-02,  3.72676887e-02, -2.23373529e-03,  3.78841758e-02,\n",
       "        1.08939491e-01, -4.29885387e-02,  6.47545308e-02, -3.52943018e-02,\n",
       "       -1.49002187e-02,  3.95965986e-02,  1.52529692e-02, -4.33765166e-02,\n",
       "        5.26833311e-02, -6.86589349e-03, -4.89702038e-02,  6.92412928e-02,\n",
       "        2.79157814e-02,  1.02951135e-02, -4.32668515e-02, -7.90712461e-02,\n",
       "       -3.39092501e-02, -5.86693697e-02, -4.82590832e-02, -6.63969442e-02,\n",
       "       -4.30240016e-03, -1.17542604e-02, -7.80434757e-02, -6.53034225e-02,\n",
       "       -4.18370105e-02, -1.79990344e-02,  3.45660411e-02, -7.61144981e-02,\n",
       "        6.72475100e-02,  9.48710833e-04, -3.75698209e-02, -6.17179507e-03,\n",
       "       -6.77871853e-02, -6.82350099e-02,  1.20018452e-01,  7.68335685e-02,\n",
       "       -7.05741271e-02, -6.61389083e-02, -1.41573306e-02,  1.11790703e-32,\n",
       "        6.60694391e-02, -9.66514274e-03,  8.56990553e-03, -1.51534481e-02,\n",
       "       -3.59141603e-02, -6.79561794e-02,  1.41011775e-02, -8.39654654e-02,\n",
       "       -4.07282896e-02, -3.88712250e-02, -7.03890575e-03,  1.97679549e-02,\n",
       "       -6.50412813e-02,  3.19958329e-02, -3.96017544e-02, -2.80564581e-03,\n",
       "       -5.04387729e-03, -1.55033087e-02,  1.19161271e-01, -5.36614247e-02,\n",
       "        3.41166481e-02,  4.45496589e-02,  1.59650389e-02, -7.75511935e-02,\n",
       "        4.53403452e-03,  5.08811884e-02,  9.05016512e-02, -5.25411330e-02,\n",
       "       -1.95341930e-02,  3.92391570e-02, -5.77301644e-02, -6.04153983e-02,\n",
       "       -2.06449889e-02, -7.66315162e-02, -5.57284094e-02, -5.41275134e-03,\n",
       "       -1.07698895e-01, -5.82597218e-02, -3.58487554e-02, -4.41683270e-02,\n",
       "       -5.00865169e-02,  3.82344262e-03,  8.20283815e-02, -5.54750152e-02,\n",
       "        2.02994589e-02,  1.18959837e-01, -1.91118184e-03,  2.00576726e-02,\n",
       "        4.06743661e-02,  3.16225085e-03, -9.25469026e-02,  1.19306296e-02,\n",
       "       -1.31051922e-02, -2.23439727e-02, -4.70418520e-02, -9.64198560e-02,\n",
       "       -8.51534214e-03,  3.64819467e-02,  1.01777427e-02, -2.64870487e-02,\n",
       "       -5.04787676e-02, -7.36048222e-02, -1.88795421e-02, -3.09238136e-02,\n",
       "        2.89086141e-02, -4.22684550e-02, -1.19759902e-01, -5.26599176e-02,\n",
       "        3.19741853e-02, -3.11290212e-02, -8.43010768e-02, -2.23398358e-02,\n",
       "        2.74482798e-02,  6.58712387e-02, -2.32708547e-02, -5.99366948e-02,\n",
       "        5.35976700e-02,  1.07930815e-02, -4.70684879e-02, -1.19164465e-02,\n",
       "        1.21445125e-02,  9.71852150e-03,  1.33709004e-02, -7.64804799e-03,\n",
       "       -1.69959536e-03,  1.19106413e-03,  6.29626140e-02,  1.56668015e-02,\n",
       "       -4.00940962e-02,  2.03794017e-02,  6.76376969e-02, -4.65108606e-04,\n",
       "        4.14915159e-02, -5.86319491e-02,  1.39113041e-02, -1.15163990e-32,\n",
       "       -2.56168619e-02, -3.03984545e-02, -8.27511176e-02, -1.37478812e-02,\n",
       "        1.46498326e-02, -5.54885305e-02, -5.31849489e-02,  1.35213420e-01,\n",
       "        3.65024395e-02, -3.06236036e-02, -8.32708180e-02, -1.69764645e-02,\n",
       "        7.89367408e-02,  7.79514313e-02,  3.88503298e-02, -7.98968226e-02,\n",
       "       -5.48417168e-03,  5.27146831e-02,  6.37073070e-03, -3.87324765e-02,\n",
       "        7.55851492e-02,  6.58140853e-02, -3.17352265e-02, -2.60501355e-02,\n",
       "        3.91346216e-02,  2.21437570e-02,  7.26755261e-02,  5.32852486e-02,\n",
       "       -9.86194015e-02,  4.08694595e-02,  9.26608518e-02,  1.59630235e-02,\n",
       "       -6.08875379e-02,  2.43372489e-02, -5.29798679e-02, -5.22705093e-02,\n",
       "        1.61744617e-02,  1.93810407e-02, -4.15749624e-02,  8.97225179e-03,\n",
       "        6.36275560e-02,  5.17696328e-02,  1.00441985e-01, -8.27934220e-02,\n",
       "       -1.61259342e-02, -6.29120991e-02,  1.13431648e-04,  3.55564989e-02,\n",
       "       -1.64633598e-02, -4.57429886e-02,  2.36093588e-02, -6.44139946e-03,\n",
       "       -2.21818406e-03, -6.53054342e-02,  1.00251593e-01, -4.72054705e-02,\n",
       "       -1.25329532e-02, -4.54942621e-02,  2.06018966e-02, -5.47092333e-02,\n",
       "       -1.29248649e-02,  9.19447560e-03, -2.96260491e-02,  1.02410935e-01,\n",
       "       -4.41644993e-03,  1.93849020e-02,  8.66618454e-02,  2.72310693e-02,\n",
       "        3.67432907e-02,  1.26642352e-02, -2.36377288e-02, -9.12240148e-02,\n",
       "       -1.39665473e-02,  7.41086481e-03,  8.30310956e-02, -4.89086495e-04,\n",
       "       -3.34055610e-02,  2.15877537e-02,  2.48715859e-02, -5.78100607e-02,\n",
       "        3.25022675e-02, -2.02632211e-02,  6.76932791e-03,  6.58634007e-02,\n",
       "        7.04774186e-02, -1.63678341e-02,  4.79294956e-02, -6.34528976e-03,\n",
       "       -6.68078661e-02,  7.70224305e-03,  3.08963135e-02,  3.28377029e-03,\n",
       "       -1.31016681e-02,  7.72293657e-02,  4.69082072e-02, -5.33140749e-08,\n",
       "       -1.49340238e-02, -2.49761026e-02,  6.30186265e-03, -2.55440306e-02,\n",
       "        3.70011516e-02, -8.62115249e-03,  7.96425417e-02,  1.81234314e-03,\n",
       "       -7.52916858e-02,  1.48131065e-02,  1.06542565e-01,  5.09693213e-02,\n",
       "        4.26751077e-02,  4.80339192e-02, -7.82616995e-03, -1.29141007e-02,\n",
       "        7.83603862e-02, -1.18789198e-02, -5.74711850e-03, -5.19021526e-02,\n",
       "        5.99650480e-02,  2.20156531e-03,  9.64888334e-02, -9.75186527e-02,\n",
       "       -1.85405239e-02,  7.93512091e-02, -5.33743314e-02,  2.09895410e-02,\n",
       "       -1.36281019e-02,  2.36083497e-03,  2.58877478e-03,  7.80302584e-02,\n",
       "       -1.87198836e-02, -9.83224139e-02,  1.93315074e-02,  6.64256513e-02,\n",
       "       -6.80039451e-02, -1.12997992e-02, -1.33658703e-02,  4.08476144e-02,\n",
       "        1.32190464e-02, -3.96043248e-02,  8.32871795e-02,  5.55037856e-02,\n",
       "        4.72476147e-02, -9.46843438e-03,  6.01493940e-02, -2.29054708e-02,\n",
       "        4.64452095e-02, -5.94767444e-02,  2.10551750e-02, -1.58403385e-02,\n",
       "        1.18397310e-01, -4.53338884e-02, -7.52052367e-02,  1.15902117e-03,\n",
       "       -6.16319515e-02,  2.34580915e-02, -1.02219321e-02, -5.48475422e-02,\n",
       "        1.32674009e-01, -2.32357085e-02,  7.51110865e-03,  4.43412475e-02],\n",
       "      dtype=float32)"
      ]
     },
     "execution_count": 14,
     "metadata": {},
     "output_type": "execute_result"
    }
   ],
   "source": [
    "dt['embeddings'][6]"
   ]
  },
  {
   "cell_type": "code",
   "execution_count": null,
   "metadata": {},
   "outputs": [],
   "source": []
  }
 ],
 "metadata": {
  "kernelspec": {
   "display_name": "llmapp",
   "language": "python",
   "name": "python3"
  },
  "language_info": {
   "codemirror_mode": {
    "name": "ipython",
    "version": 3
   },
   "file_extension": ".py",
   "mimetype": "text/x-python",
   "name": "python",
   "nbconvert_exporter": "python",
   "pygments_lexer": "ipython3",
   "version": "3.12.9"
  }
 },
 "nbformat": 4,
 "nbformat_minor": 2
}
